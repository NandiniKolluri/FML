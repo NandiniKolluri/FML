{
  "nbformat": 4,
  "nbformat_minor": 0,
  "metadata": {
    "colab": {
      "provenance": [],
      "authorship_tag": "ABX9TyNIURs0LSDdVlrs4rVoYyV4",
      "include_colab_link": true
    },
    "kernelspec": {
      "name": "python3",
      "display_name": "Python 3"
    },
    "language_info": {
      "name": "python"
    }
  },
  "cells": [
    {
      "cell_type": "markdown",
      "metadata": {
        "id": "view-in-github",
        "colab_type": "text"
      },
      "source": [
        "<a href=\"https://colab.research.google.com/github/nandinik2004/FML/blob/main/BASIC.ipynb\" target=\"_parent\"><img src=\"https://colab.research.google.com/assets/colab-badge.svg\" alt=\"Open In Colab\"/></a>"
      ]
    },
    {
      "cell_type": "code",
      "execution_count": null,
      "metadata": {
        "colab": {
          "base_uri": "https://localhost:8080/"
        },
        "id": "k9jKwNOnX0t8",
        "outputId": "28480365-3b64-48f0-f98c-34a65dd50d7d"
      },
      "outputs": [
        {
          "output_type": "stream",
          "name": "stdout",
          "text": [
            "   0  1  2   3\n",
            "0  1  2  3   4\n",
            "1  1  4  6  56\n"
          ]
        }
      ],
      "source": [
        "a=[[1,2,3,4],[1,4,6,56]]\n",
        "d1=pd.DataFrame(a)\n",
        "print(d1)"
      ]
    },
    {
      "cell_type": "code",
      "source": [
        "import pandas as pd"
      ],
      "metadata": {
        "id": "pPHho9O3ogEM"
      },
      "execution_count": null,
      "outputs": []
    },
    {
      "cell_type": "code",
      "source": [
        "import numpy as np"
      ],
      "metadata": {
        "id": "uOLaRM4vo5Wt"
      },
      "execution_count": null,
      "outputs": []
    },
    {
      "cell_type": "code",
      "source": [
        "f = np.array(['apple','orange','mango','pear'])\n",
        "s1 = pd.Series(f)\n",
        "print(s1)\n"
      ],
      "metadata": {
        "colab": {
          "base_uri": "https://localhost:8080/"
        },
        "id": "TAYkvLFYoqwk",
        "outputId": "7229cfed-d141-4b71-a6cc-09107279285c"
      },
      "execution_count": null,
      "outputs": [
        {
          "output_type": "stream",
          "name": "stdout",
          "text": [
            "0     apple\n",
            "1    orange\n",
            "2     mango\n",
            "3      pear\n",
            "dtype: object\n"
          ]
        }
      ]
    },
    {
      "cell_type": "code",
      "source": [
        "d1=pd.DataFrame({\n",
        "    \"c1\" : [1,2,3,4,5],\n",
        "     \"c2\" : [2,4,5,6,7]\n",
        "})\n",
        "print(d1)"
      ],
      "metadata": {
        "colab": {
          "base_uri": "https://localhost:8080/"
        },
        "id": "GqggAJCrpBvt",
        "outputId": "a6dbf898-c6ef-4e3a-d1eb-8ec0414c0f93"
      },
      "execution_count": null,
      "outputs": [
        {
          "output_type": "stream",
          "name": "stdout",
          "text": [
            "   c1  c2\n",
            "0   1   2\n",
            "1   2   4\n",
            "2   3   5\n",
            "3   4   6\n",
            "4   5   7\n"
          ]
        }
      ]
    },
    {
      "cell_type": "code",
      "source": [
        "s1 = [[34, 20], ['%', 15], ['s4', 12]]\n",
        "sd=pd.DataFrame(s1)\n",
        "print(sd)"
      ],
      "metadata": {
        "colab": {
          "base_uri": "https://localhost:8080/"
        },
        "id": "8942IgDwqOMT",
        "outputId": "fbd1d1ca-272d-478d-c9e5-313a5fa17fde"
      },
      "execution_count": null,
      "outputs": [
        {
          "output_type": "stream",
          "name": "stdout",
          "text": [
            "    0   1\n",
            "0  34  20\n",
            "1   %  15\n",
            "2  s4  12\n"
          ]
        }
      ]
    },
    {
      "cell_type": "code",
      "source": [
        "f1 = [[1,2,3],[2,4,5],[7,8,9]]\n",
        "x1 = pd.DataFrame(f1 ,columns=['fsdf','rfsdds','sfds'], dtype=float)\n",
        "print(x1)"
      ],
      "metadata": {
        "colab": {
          "base_uri": "https://localhost:8080/"
        },
        "id": "A5XhEm2Oqx3E",
        "outputId": "ab0545ed-53a3-41d4-9c02-4e6c92f513b0"
      },
      "execution_count": null,
      "outputs": [
        {
          "output_type": "stream",
          "name": "stdout",
          "text": [
            "   fsdf  rfsdds  sfds\n",
            "0   1.0     2.0   3.0\n",
            "1   2.0     4.0   5.0\n",
            "2   7.0     8.0   9.0\n"
          ]
        }
      ]
    },
    {
      "cell_type": "code",
      "source": [],
      "metadata": {
        "id": "-Wcgk6S8stck"
      },
      "execution_count": null,
      "outputs": []
    }
  ]
}